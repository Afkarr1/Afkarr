{
  "nbformat": 4,
  "nbformat_minor": 0,
  "metadata": {
    "colab": {
      "provenance": [],
      "authorship_tag": "ABX9TyP4hAlZhvBQrBIB2V0YfVQz",
      "include_colab_link": true
    },
    "kernelspec": {
      "name": "python3",
      "display_name": "Python 3"
    },
    "language_info": {
      "name": "python"
    }
  },
  "cells": [
    {
      "cell_type": "markdown",
      "metadata": {
        "id": "view-in-github",
        "colab_type": "text"
      },
      "source": [
        "<a href=\"https://colab.research.google.com/github/Afkarr1/Afkarr/blob/main/tugas13.ipynb\" target=\"_parent\"><img src=\"https://colab.research.google.com/assets/colab-badge.svg\" alt=\"Open In Colab\"/></a>"
      ]
    },
    {
      "cell_type": "code",
      "execution_count": null,
      "metadata": {
        "id": "_k_fl7Utz28a"
      },
      "outputs": [],
      "source": [
        "def bfs(graph, start):\n",
        "  visited = []\n",
        "  queue = []\n",
        "  queue = [start]\n",
        "  while queue:\n",
        "    node = queue.pop(0)\n",
        "    if node not in visited:\n",
        "      visited.append(node)\n",
        "      neighbours = graph[node]\n",
        "      for neighbour in neighbours:\n",
        "        queue.append(neighbour)\n",
        "  return visited"
      ]
    },
    {
      "cell_type": "code",
      "source": [
        "graph = {0: [9, 7, 11],\n",
        "         1: [10, 8],\n",
        "         2: [12, 3],\n",
        "         3: [2, 4],\n",
        "         4: [3],\n",
        "         5: [6],\n",
        "         6: [5, 7],\n",
        "         7: [0, 11, 6, 3],\n",
        "         8: [1, 9, 12],\n",
        "         9: [0, 8, 10],\n",
        "         10: [1, 9],\n",
        "         11: [0, 7],\n",
        "         12: [8, 2]\n",
        "         }\n",
        "\n",
        "bfs(graph, 0)"
      ],
      "metadata": {
        "colab": {
          "base_uri": "https://localhost:8080/"
        },
        "id": "6AqocKflz71p",
        "outputId": "5cfdbc4d-03a1-47da-eb52-fadd09d36a29"
      },
      "execution_count": null,
      "outputs": [
        {
          "output_type": "execute_result",
          "data": {
            "text/plain": [
              "[0, 9, 7, 11, 8, 10, 6, 3, 1, 12, 5, 2, 4]"
            ]
          },
          "metadata": {},
          "execution_count": 2
        }
      ]
    },
    {
      "cell_type": "code",
      "source": [
        "graph = {'Amin' : ['Wasim', 'Nick', 'Mike'],\n",
        "         'Wasim' : ['Imran', 'Amin'],\n",
        "         'Imran' : ['Wasim', 'Faras'],\n",
        "         'Faras' : ['Imran'],\n",
        "         'Mike' : ['Amin'],\n",
        "         'Nick' : ['Amin']\n",
        "         }"
      ],
      "metadata": {
        "id": "m4Uq6z7Cz-mc"
      },
      "execution_count": null,
      "outputs": []
    },
    {
      "cell_type": "code",
      "source": [
        "bfs(graph,'Amin')\n"
      ],
      "metadata": {
        "colab": {
          "base_uri": "https://localhost:8080/"
        },
        "id": "wPflsU030CQv",
        "outputId": "284033e4-9e16-441e-b341-2718e6e574f5"
      },
      "execution_count": null,
      "outputs": [
        {
          "output_type": "execute_result",
          "data": {
            "text/plain": [
              "['Amin', 'Wasim', 'Nick', 'Mike', 'Imran', 'Faras']"
            ]
          },
          "metadata": {},
          "execution_count": 4
        }
      ]
    },
    {
      "cell_type": "code",
      "source": [
        "print(bfs(graph, 'Amin'))\n",
        "print(bfs(graph, 'Wasim'))\n",
        "print(bfs(graph, 'Faras'))\n"
      ],
      "metadata": {
        "colab": {
          "base_uri": "https://localhost:8080/"
        },
        "id": "xfbgObW60EsL",
        "outputId": "a5c65a75-d6ad-49a2-8c93-9fcc41d54a69"
      },
      "execution_count": null,
      "outputs": [
        {
          "output_type": "stream",
          "name": "stdout",
          "text": [
            "['Amin', 'Wasim', 'Nick', 'Mike', 'Imran', 'Faras']\n",
            "['Wasim', 'Imran', 'Amin', 'Faras', 'Nick', 'Mike']\n",
            "['Faras', 'Imran', 'Wasim', 'Amin', 'Nick', 'Mike']\n"
          ]
        }
      ]
    },
    {
      "cell_type": "code",
      "source": [
        "graph = {'Rektor' : [ 'Warek 1', 'Warek 2'],\n",
        "         'Warek 1' : ['Rektor'],\n",
        "         'Warek 2' : ['Rektor', 'Kaprodi 1', 'Kaprodi 2', 'Kaprodi 3'],\n",
        "         'Kaprodi 1' : ['Warek 2', 'Dosen A', 'Dosen B', 'Dosen C'],\n",
        "         'Kaprodi 2' : ['Warek 2', 'Dosen D', 'Dosen E'],\n",
        "         'Kaprodi 3' : ['Warek 2', 'Dosen F', 'Dosen G'],\n",
        "         'Dosen A' : ['Kaprodi 1'],\n",
        "         'Dosen B' : ['Kaprodi 1'],\n",
        "         'Dosen C' : ['Kaprodi 1'],\n",
        "         'Dosen D' : ['Kaprodi 2'],\n",
        "         'Dosen E' : ['Kaprodi 2'],\n",
        "         'Dosen F' : ['Kaprodi 3'],\n",
        "         'Dosen G' : ['Kaprodi 3']\n",
        "         }"
      ],
      "metadata": {
        "id": "13aODkVC0H-1"
      },
      "execution_count": null,
      "outputs": []
    },
    {
      "cell_type": "code",
      "source": [
        "bfs(graph,'Rektor')\n"
      ],
      "metadata": {
        "colab": {
          "base_uri": "https://localhost:8080/"
        },
        "id": "1Xt9mjt502im",
        "outputId": "6e8aa404-f5cd-45a6-a2ab-c49f871735ab"
      },
      "execution_count": null,
      "outputs": [
        {
          "output_type": "execute_result",
          "data": {
            "text/plain": [
              "['Rektor',\n",
              " 'Warek 1',\n",
              " 'Warek 2',\n",
              " 'Kaprodi 1',\n",
              " 'Kaprodi 2',\n",
              " 'Kaprodi 3',\n",
              " 'Dosen A',\n",
              " 'Dosen B',\n",
              " 'Dosen C',\n",
              " 'Dosen D',\n",
              " 'Dosen E',\n",
              " 'Dosen F',\n",
              " 'Dosen G']"
            ]
          },
          "metadata": {},
          "execution_count": 7
        }
      ]
    },
    {
      "cell_type": "code",
      "source": [
        "def dfs(visited, graph, node):\n",
        "  if node not in visited:\n",
        "    print(node)\n",
        "    visited.add(node)\n",
        "    for neighbor in graph[node]:\n",
        "      dfs(visited, graph, neighbor)"
      ],
      "metadata": {
        "id": "2wz-bE1X04aq"
      },
      "execution_count": null,
      "outputs": []
    },
    {
      "cell_type": "code",
      "source": [
        "graph = {0: [1, 9],\n",
        "         1: [0, 8],\n",
        "         2: [3],\n",
        "         3: [2, 4, 5, 7],\n",
        "         4: [3],\n",
        "         5: [3, 6],\n",
        "         6: [5, 7],\n",
        "         7: [3, 6, 8, 10, 11],\n",
        "         8: [1, 9, 7],\n",
        "         9: [0, 8],\n",
        "         10: [7, 11],\n",
        "         11: [10, 7],\n",
        "         12: []\n",
        "         }\n",
        "visited = set()\n",
        "dfs(visited, graph, 0)"
      ],
      "metadata": {
        "colab": {
          "base_uri": "https://localhost:8080/"
        },
        "id": "JSAVoFmG0713",
        "outputId": "160d2aac-4362-4033-8efe-4c064d029a5f"
      },
      "execution_count": null,
      "outputs": [
        {
          "output_type": "stream",
          "name": "stdout",
          "text": [
            "0\n",
            "1\n",
            "8\n",
            "9\n",
            "7\n",
            "3\n",
            "2\n",
            "4\n",
            "5\n",
            "6\n",
            "10\n",
            "11\n"
          ]
        }
      ]
    },
    {
      "cell_type": "code",
      "source": [
        "graph = {'Amin' : ['Wasim', 'Nick', 'Mike'],\n",
        "         'Wasim' : ['Imran', 'Amin'],\n",
        "         'Imran' : ['Wasim', 'Faras'],\n",
        "         'Faras' : ['Imran'],\n",
        "         'Mike' : ['Amin'],\n",
        "         'Nick' : ['Amin']\n",
        "         }\n",
        "\n",
        "visited = set()\n",
        "dfs(visited, graph, 'Amin')"
      ],
      "metadata": {
        "colab": {
          "base_uri": "https://localhost:8080/"
        },
        "id": "sDWaG2Ku0_YG",
        "outputId": "67a60b73-1f49-49b0-fe04-f54c55431848"
      },
      "execution_count": null,
      "outputs": [
        {
          "output_type": "stream",
          "name": "stdout",
          "text": [
            "Amin\n",
            "Wasim\n",
            "Imran\n",
            "Faras\n",
            "Nick\n",
            "Mike\n"
          ]
        }
      ]
    },
    {
      "cell_type": "code",
      "source": [
        "visited = set()\n",
        "dfs(visited, graph, 'Wasim')"
      ],
      "metadata": {
        "colab": {
          "base_uri": "https://localhost:8080/"
        },
        "id": "ufRVIZ9f1Cgn",
        "outputId": "a85ff082-247b-463f-db21-651e164db5b7"
      },
      "execution_count": null,
      "outputs": [
        {
          "output_type": "stream",
          "name": "stdout",
          "text": [
            "Wasim\n",
            "Imran\n",
            "Faras\n",
            "Amin\n",
            "Nick\n",
            "Mike\n"
          ]
        }
      ]
    },
    {
      "cell_type": "code",
      "source": [
        "visited = set()\n",
        "dfs(visited, graph, 'Nick')"
      ],
      "metadata": {
        "colab": {
          "base_uri": "https://localhost:8080/"
        },
        "id": "wRTZb8NB1J-v",
        "outputId": "9226e995-1904-4367-e199-f417094a1b1a"
      },
      "execution_count": null,
      "outputs": [
        {
          "output_type": "stream",
          "name": "stdout",
          "text": [
            "Nick\n",
            "Amin\n",
            "Wasim\n",
            "Imran\n",
            "Faras\n",
            "Mike\n"
          ]
        }
      ]
    },
    {
      "cell_type": "code",
      "source": [
        "visited = set()\n",
        "dfs(visited, graph, 'Faras')"
      ],
      "metadata": {
        "colab": {
          "base_uri": "https://localhost:8080/"
        },
        "id": "wcJ2wpwD1E8u",
        "outputId": "455859d6-efba-4b8a-ea24-16510ccd7c9a"
      },
      "execution_count": null,
      "outputs": [
        {
          "output_type": "stream",
          "name": "stdout",
          "text": [
            "Faras\n",
            "Imran\n",
            "Wasim\n",
            "Amin\n",
            "Nick\n",
            "Mike\n"
          ]
        }
      ]
    },
    {
      "cell_type": "code",
      "source": [
        "graph = {'Rektor' : [ 'Warek 1', 'Warek 2'],\n",
        "         'Warek 1' : ['Rektor'],\n",
        "         'Warek 2' : ['Rektor', 'Kaprodi 1', 'Kaprodi 2', 'Kaprodi 3'],\n",
        "         'Kaprodi 1' : ['Warek 2', 'Dosen A', 'Dosen B', 'Dosen C'],\n",
        "         'Kaprodi 2' : ['Warek 2', 'Dosen D', 'Dosen E'],\n",
        "         'Kaprodi 3' : ['Warek 2', 'Dosen F', 'Dosen G'],\n",
        "         'Dosen A' : ['Kaprodi 1'],\n",
        "         'Dosen B' : ['Kaprodi 1'],\n",
        "         'Dosen C' : ['Kaprodi 1'],\n",
        "         'Dosen D' : ['Kaprodi 2'],\n",
        "         'Dosen E' : ['Kaprodi 2'],\n",
        "         'Dosen F' : ['Kaprodi 3'],\n",
        "         'Dosen G' : ['Kaprodi 3']\n",
        "         }\n",
        "\n",
        "visited = set()\n",
        "dfs(visited, graph, 'Rektor')"
      ],
      "metadata": {
        "colab": {
          "base_uri": "https://localhost:8080/"
        },
        "id": "3VEWF7_b1ICj",
        "outputId": "7ce2d8ca-0758-4c2e-c3a9-a64e3edb3de7"
      },
      "execution_count": null,
      "outputs": [
        {
          "output_type": "stream",
          "name": "stdout",
          "text": [
            "Rektor\n",
            "Warek 1\n",
            "Warek 2\n",
            "Kaprodi 1\n",
            "Dosen A\n",
            "Dosen B\n",
            "Dosen C\n",
            "Kaprodi 2\n",
            "Dosen D\n",
            "Dosen E\n",
            "Kaprodi 3\n",
            "Dosen F\n",
            "Dosen G\n"
          ]
        }
      ]
    },
    {
      "cell_type": "code",
      "source": [],
      "metadata": {
        "id": "Se2HbdeM1Tv8"
      },
      "execution_count": null,
      "outputs": []
    }
  ]
}