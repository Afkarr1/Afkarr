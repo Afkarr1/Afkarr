{
  "nbformat": 4,
  "nbformat_minor": 0,
  "metadata": {
    "colab": {
      "provenance": [],
      "authorship_tag": "ABX9TyN/Ml2wLt4TuHGs3mLqDIbE",
      "include_colab_link": true
    },
    "kernelspec": {
      "name": "python3",
      "display_name": "Python 3"
    },
    "language_info": {
      "name": "python"
    }
  },
  "cells": [
    {
      "cell_type": "markdown",
      "metadata": {
        "id": "view-in-github",
        "colab_type": "text"
      },
      "source": [
        "<a href=\"https://colab.research.google.com/github/Afkarr1/Afkarr/blob/main/Tugas10.ipynb\" target=\"_parent\"><img src=\"https://colab.research.google.com/assets/colab-badge.svg\" alt=\"Open In Colab\"/></a>"
      ]
    },
    {
      "cell_type": "code",
      "execution_count": null,
      "metadata": {
        "colab": {
          "base_uri": "https://localhost:8080/",
          "height": 35
        },
        "id": "-u8iEhojQSS7",
        "outputId": "fc2f0fb1-2ddd-4b1a-8455-892c9670be03"
      },
      "outputs": [
        {
          "output_type": "execute_result",
          "data": {
            "text/plain": [
              "'Optimal'"
            ],
            "application/vnd.google.colaboratory.intrinsic+json": {
              "type": "string"
            }
          },
          "metadata": {},
          "execution_count": 21
        }
      ],
      "source": [
        "import pulp\n",
        "\n",
        "#Instantiate our problem class\n",
        "model = pulp.LpProblem(\"ProfitMaximisingProblem\", pulp.LpMaximize)\n",
        "A = pulp.LpVariable('A', lowBound=0, cat='Integer')\n",
        "B = pulp.LpVariable('B', lowBound=0, cat='Integer')\n",
        "\n",
        "#Objective function\n",
        "model += 4200*A+2800*B, \"Profit\"\n",
        "#Constraints\n",
        "model += 3*A+2*B <= 20\n",
        "model += 4*A+3*B <= 30\n",
        "model += 4*A+3*B <= 44\n",
        "\n",
        "#Solve Our Problem\n",
        "model.solve()\n",
        "pulp.LpStatus[model.status]\n"
      ]
    },
    {
      "cell_type": "code",
      "source": [
        "#print our decision variable values\n",
        "print (A.varValue)\n",
        "print (B.varValue)"
      ],
      "metadata": {
        "colab": {
          "base_uri": "https://localhost:8080/"
        },
        "id": "M3-HEGXQShMc",
        "outputId": "dafe6bcd-5e5b-4077-ed12-77a9b83c4e9d"
      },
      "execution_count": null,
      "outputs": [
        {
          "output_type": "stream",
          "name": "stdout",
          "text": [
            "6.0\n",
            "1.0\n"
          ]
        }
      ]
    },
    {
      "cell_type": "code",
      "source": [
        "#Print our objective function value\n",
        "print (pulp.value(model.objective))"
      ],
      "metadata": {
        "colab": {
          "base_uri": "https://localhost:8080/"
        },
        "id": "0t9t6EmnShNO",
        "outputId": "9349bd6a-4290-4ef8-dc9e-c6df6ca00360"
      },
      "execution_count": null,
      "outputs": [
        {
          "output_type": "stream",
          "name": "stdout",
          "text": [
            "28000.0\n"
          ]
        }
      ]
    },
    {
      "cell_type": "code",
      "source": [
        "from pulp.constants import LpMinimize\n",
        "from pulp.pulp import LpProblem\n",
        "#4x+3y=34\n",
        "import pulp\n",
        "\n",
        "#Membuat objek masalah optimasi\n",
        "model = LpProblem(name=\"Pemecahan_persamaan\", sense=LpMinimize)\n",
        "#Membuat variabel x dan y\n",
        "x = pulp.LpVariable(name=\"x\")\n",
        "y = pulp.LpVariable(name=\"y\")\n",
        "\n",
        "#Menambahkan batasan\n",
        "model += 4 * x + 3 * y == 34\n",
        "\n",
        "#menyelesaikan masalah\n",
        "model.solve()\n",
        "\n",
        "#menampilkan hasil\n",
        "print(\"Status: \",model.status)\n",
        "print(\"nilai x =\", x.varValue)\n",
        "print(\"nilai y =\", y.varValue)"
      ],
      "metadata": {
        "colab": {
          "base_uri": "https://localhost:8080/"
        },
        "id": "5f8OXXWcYa_M",
        "outputId": "3da91854-6578-4629-960b-6e9d665075e1"
      },
      "execution_count": null,
      "outputs": [
        {
          "output_type": "stream",
          "name": "stdout",
          "text": [
            "Status:  1\n",
            "nilai x = 8.5\n",
            "nilai y = 0.0\n"
          ]
        }
      ]
    },
    {
      "cell_type": "code",
      "source": [
        "from pulp.constants import LpMinimize\n",
        "from pulp.pulp import LpProblem\n",
        "#5*x+y == 37\n",
        "import pulp\n",
        "\n",
        "#Membuat objek masalah optimasi\n",
        "model = LpProblem(name=\"Pemecahan_persamaan\", sense=LpMinimize)\n",
        "#Membuat variabel x dan y\n",
        "x = pulp.LpVariable(name=\"x\")\n",
        "y = pulp.LpVariable(name=\"y\")\n",
        "\n",
        "#Menambahkan batasan\n",
        "model += 5 * x + y == 37\n",
        "\n",
        "#menyelesaikan masalah\n",
        "model.solve()\n",
        "\n",
        "#menampilkan hasil\n",
        "print(\"Status: \",model.status)\n",
        "print(\"nilai x =\", x.varValue)\n",
        "print(\"nilai y =\", y.varValue)"
      ],
      "metadata": {
        "colab": {
          "base_uri": "https://localhost:8080/"
        },
        "id": "69iux2VpcF1n",
        "outputId": "3109fe7a-8c9e-417d-f544-bb1757c8ec7b"
      },
      "execution_count": null,
      "outputs": [
        {
          "output_type": "stream",
          "name": "stdout",
          "text": [
            "Status:  1\n",
            "nilai x = 7.4\n",
            "nilai y = 0.0\n"
          ]
        }
      ]
    },
    {
      "cell_type": "code",
      "source": [
        "#3Pensil dan 4 buku = 11000\n",
        "#1pensil dan 7 buku = 15000\n",
        "\n",
        "import pulp\n",
        "\n",
        "#Instantiate our problem class\n",
        "model = pulp.LpProblem(\"ProfitMaximisingProblem\", pulp.LpMaximize)\n",
        "R = pulp.LpVariable('R', lowBound=0, cat='Integer')\n",
        "J = pulp.LpVariable('J', lowBound=0, cat='Integer')\n",
        "\n",
        "#Objective function\n",
        "model += 2*R+6*J, \"Profit\"\n",
        "#Constraints\n",
        "model += 3*R+4*J <= 11000\n",
        "model += 1*R+7*J <= 15000\n",
        "\n",
        "#Solve Our Problem\n",
        "model.solve()\n",
        "pulp.LpStatus[model.status]\n",
        "\n",
        "print (R.varValue)\n",
        "print (J.varValue)\n",
        "print (pulp.value(model.objective))"
      ],
      "metadata": {
        "colab": {
          "base_uri": "https://localhost:8080/"
        },
        "id": "2pORi6jciWFE",
        "outputId": "a59e6429-a08b-4000-fbdd-3c6a57acc529"
      },
      "execution_count": null,
      "outputs": [
        {
          "output_type": "stream",
          "name": "stdout",
          "text": [
            "1000.0\n",
            "2000.0\n",
            "14000.0\n"
          ]
        }
      ]
    },
    {
      "cell_type": "code",
      "source": [
        "#panjang 14Cm\n",
        "#lebar 8cm\n",
        "#2P+2L\n",
        "#L=P-6\n",
        "import pulp\n",
        "\n",
        "#Instantiate our problem class\n",
        "model = pulp.LpProblem(\"ProfitMaximisingProblem\", pulp.LpMaximize)\n",
        "p = pulp.LpVariable(name = 'p')\n",
        "l = pulp.LpVariable(name = 'l')\n",
        "\n",
        "#Constraints\n",
        "model += 2*p+2*l <= 44\n",
        "model += p-6 == l\n",
        "\n",
        "#Solve Our Problem\n",
        "model.solve()\n",
        "pulp.LpStatus[model.status]\n",
        "\n",
        "print (p.varValue)\n",
        "print (l.varValue)"
      ],
      "metadata": {
        "colab": {
          "base_uri": "https://localhost:8080/"
        },
        "id": "bE10zZqUmvIy",
        "outputId": "e4b9467d-2337-4aa8-a18b-61907b0a2b42"
      },
      "execution_count": null,
      "outputs": [
        {
          "output_type": "stream",
          "name": "stdout",
          "text": [
            "14.0\n",
            "8.0\n"
          ]
        }
      ]
    },
    {
      "cell_type": "code",
      "source": [
        "from scipy.optimize import linprog\n",
        "def scipy(pers1,pers2,pers3,object):\n",
        "    c = [object[0],object[1]]\n",
        "    A = [[pers1[0],pers1[1]],\n",
        "        [pers2[0],pers2[1]],\n",
        "        [pers3[0],pers3[1]]]\n",
        "    b = [pers1[2],pers2[2],pers3[2]]\n",
        "    x1_bounds = (0,None)\n",
        "    x2_bounds = (0,None)\n",
        "    result = linprog(c,A_ub=A,b_ub=b,bounds=[x1_bounds,x2_bounds], method =\"highs\")\n",
        "\n",
        "    print(\"Optimal Solution:\")\n",
        "    print(\"x1=\",result.x[0])\n",
        "    print(\"x2=\",result.x[1])\n",
        "    print(\"Max_z=\",-result.fun)"
      ],
      "metadata": {
        "id": "xZdgoiyKq9G5"
      },
      "execution_count": 8,
      "outputs": []
    },
    {
      "cell_type": "code",
      "source": [
        "pers1=[1,0,16]\n",
        "pers2=[2,3,19]\n",
        "pers3=[1,1,8]\n",
        "object = [-5,-7]\n",
        "scipy(pers1,pers2,pers3,object)"
      ],
      "metadata": {
        "colab": {
          "base_uri": "https://localhost:8080/"
        },
        "id": "Pvl-UBkhvvVP",
        "outputId": "12569d5b-c4d0-432d-eb0f-269861fc0a42"
      },
      "execution_count": 9,
      "outputs": [
        {
          "output_type": "stream",
          "name": "stdout",
          "text": [
            "Optimal Solution:\n",
            "x1= 5.0\n",
            "x2= 3.0\n",
            "Max_z= 46.0\n"
          ]
        }
      ]
    },
    {
      "cell_type": "code",
      "source": [
        "#latihan 1\n",
        "#4 x + 12 y = 28\n",
        "\n",
        "pers1=[4,12,28]\n",
        "pers2=[0,0,0]\n",
        "pers3=[0,0,0]\n",
        "object = [-1,-1]\n",
        "scipy(pers1,pers2,pers3,object)"
      ],
      "metadata": {
        "colab": {
          "base_uri": "https://localhost:8080/"
        },
        "id": "fnvkFKslV5c7",
        "outputId": "9b4b18b3-8dfe-41b1-8eb1-17399932626c"
      },
      "execution_count": 10,
      "outputs": [
        {
          "output_type": "stream",
          "name": "stdout",
          "text": [
            "Optimal Solution:\n",
            "x1= 7.0\n",
            "x2= 0.0\n",
            "Max_z= 7.0\n"
          ]
        }
      ]
    },
    {
      "cell_type": "code",
      "source": [
        "#latihan 2 scipy\n",
        "# 2x + y = 21\n",
        "\n",
        "pers1=[2,1,21]\n",
        "pers2=[0,0,0]\n",
        "pers3=[0,0,0]\n",
        "object = [-1,-1]\n",
        "scipy(pers1,pers2,pers3,object)"
      ],
      "metadata": {
        "colab": {
          "base_uri": "https://localhost:8080/"
        },
        "id": "suBuyNvmWElz",
        "outputId": "bfd7c86b-77d0-4cce-8e84-f301f6fb9bd9"
      },
      "execution_count": 11,
      "outputs": [
        {
          "output_type": "stream",
          "name": "stdout",
          "text": [
            "Optimal Solution:\n",
            "x1= 0.0\n",
            "x2= 21.0\n",
            "Max_z= 21.0\n"
          ]
        }
      ]
    },
    {
      "cell_type": "code",
      "source": [
        "#3 x1 + 4 x2= 55\n",
        "#1 x1 + 1 x2 = 16\n",
        "\n",
        "pers1=[3,4,55]\n",
        "pers2=[1,1,16]\n",
        "pers3=[0,0,0]\n",
        "object = [-1,-1]\n",
        "scipy(pers1,pers2,pers3,object)"
      ],
      "metadata": {
        "colab": {
          "base_uri": "https://localhost:8080/"
        },
        "id": "W9UMoo3KWjZb",
        "outputId": "91a083dc-67c6-46bc-db94-40440168ace6"
      },
      "execution_count": 12,
      "outputs": [
        {
          "output_type": "stream",
          "name": "stdout",
          "text": [
            "Optimal Solution:\n",
            "x1= 9.0\n",
            "x2= 7.0\n",
            "Max_z= 16.0\n"
          ]
        }
      ]
    }
  ]
}