{
  "nbformat": 4,
  "nbformat_minor": 0,
  "metadata": {
    "colab": {
      "provenance": [],
      "authorship_tag": "ABX9TyMb4klzbXdgMM7xsgoxNtuA",
      "include_colab_link": true
    },
    "kernelspec": {
      "name": "python3",
      "display_name": "Python 3"
    },
    "language_info": {
      "name": "python"
    }
  },
  "cells": [
    {
      "cell_type": "markdown",
      "metadata": {
        "id": "view-in-github",
        "colab_type": "text"
      },
      "source": [
        "<a href=\"https://colab.research.google.com/github/Afkarr1/Afkarr/blob/main/Pertemuan11.ipynb\" target=\"_parent\"><img src=\"https://colab.research.google.com/assets/colab-badge.svg\" alt=\"Open In Colab\"/></a>"
      ]
    },
    {
      "cell_type": "code",
      "execution_count": 3,
      "metadata": {
        "colab": {
          "base_uri": "https://localhost:8080/"
        },
        "id": "3FhNYgqiTl8v",
        "outputId": "d0dad522-711b-47fe-ccb1-18f4c69108f6"
      },
      "outputs": [
        {
          "output_type": "stream",
          "name": "stdout",
          "text": [
            "{'a': ['b', 'c'], 'b': ['a', 'd'], 'c': ['a', 'd'], 'd': ['e'], 'e': ['d']}\n"
          ]
        }
      ],
      "source": [
        "#a-----b\n",
        "#/     /\n",
        "#/     /\n",
        "#c-----d-----e\n",
        "\n",
        "#Create the dictionary with graph elements\n",
        "graph = { \"a\" : [\"b\",\"c\"],\n",
        "          \"b\" : [\"a\",\"d\"],\n",
        "          \"c\" : [\"a\",\"d\"],\n",
        "          \"d\" : [\"e\"],\n",
        "          \"e\" : [\"d\"]\n",
        "          }\n",
        "\n",
        "#print the graph\n",
        "print(graph)"
      ]
    },
    {
      "cell_type": "code",
      "source": [
        "#t------u------v\n",
        "#|      |      |\n",
        "#w-------------x\n",
        "#|      |      |\n",
        "#z             s\n",
        "\n",
        "graph = { \"t\" : [\"u\",\"w\"],\n",
        "          \"u\" : [\"v\",\"x\"],\n",
        "          \"w\" : [\"z\",\"x\"],\n",
        "          \"x\" : [\"s\",]\n",
        "          }\n",
        "\n",
        "#print the graph\n",
        "print(graph)"
      ],
      "metadata": {
        "colab": {
          "base_uri": "https://localhost:8080/"
        },
        "id": "uZW5kdstdQOH",
        "outputId": "c00d8ac0-64e8-4846-e257-e62bbdaac672"
      },
      "execution_count": 12,
      "outputs": [
        {
          "output_type": "stream",
          "name": "stdout",
          "text": [
            "{'t': ['u', 'w'], 'u': ['v', 'x'], 'w': ['z', 'x'], 'x': ['s']}\n"
          ]
        }
      ]
    },
    {
      "cell_type": "code",
      "source": [
        "#r------o------m\n",
        "#|      |      |\n",
        "#L------p------n\n",
        "\n",
        "graph = { \"r\" : [\"o\",\"L\"],\n",
        "          \"o\" : [\"m\",\"p\"],\n",
        "          \"m\" : [\"n\"],\n",
        "          \"L\" : [\"p\"],\n",
        "          \"p\" : [\"n\"],\n",
        "          }\n",
        "\n",
        "#print the graph\n",
        "print(graph)"
      ],
      "metadata": {
        "colab": {
          "base_uri": "https://localhost:8080/"
        },
        "id": "c2BdpDSpX4rD",
        "outputId": "9e4e8d28-ce51-47c1-a7de-e615cca3a4d4"
      },
      "execution_count": 5,
      "outputs": [
        {
          "output_type": "stream",
          "name": "stdout",
          "text": [
            "{'r': ['o', 'L'], 'o': ['m', 'p'], 'm': ['n'], 'L': ['p'], 'p': ['n']}\n"
          ]
        }
      ]
    },
    {
      "cell_type": "code",
      "source": [
        "class Graph:\n",
        "    def __init__(self,gdict=None):\n",
        "       if gdict is None:\n",
        "           gdict = {}\n",
        "       self.gdict = gdict\n",
        "\n",
        "#Get the keys of the dictionary\n",
        "    def getVertices(self):\n",
        "        return list(self.gdict.keys())\n",
        "\n",
        "#Create dictionary with graph elemnts\n",
        "graph_elements = {\n",
        "    \"a\": [\"b\",\"c\"],\n",
        "    \"b\": [\"d\",\"a\"],\n",
        "    \"c\": [\"a\",\"d\"],\n",
        "    \"d\": [\"e\"],\n",
        "    \"e\": [\"d\"]\n",
        "}\n",
        "#Create an instance of the Graph class and pass the graph_elements\n",
        "g = Graph(graph_elements)\n",
        "#print the vertices by calling the getVertices method with parentheses\n",
        "print(g.getVertices())"
      ],
      "metadata": {
        "colab": {
          "base_uri": "https://localhost:8080/"
        },
        "id": "2-f3bG8Xg8F8",
        "outputId": "ae08151c-b0b3-4955-d72e-4151ff470817"
      },
      "execution_count": 10,
      "outputs": [
        {
          "output_type": "stream",
          "name": "stdout",
          "text": [
            "['a', 'b', 'c', 'd', 'e']\n"
          ]
        }
      ]
    },
    {
      "cell_type": "code",
      "source": [
        "class Graph:\n",
        "    def __init__(self,gdict=None):\n",
        "       if gdict is None:\n",
        "           gdict = {}\n",
        "       self.gdict = gdict\n",
        "\n",
        "#Get the keys of the dictionary\n",
        "    def getVertices(self):\n",
        "        return list(self.gdict.keys())\n",
        "\n",
        "#Create dictionary with graph elemnts\n",
        "graph_elements = {\n",
        "      \"t\" : [\"u\",\"w\"],\n",
        "      \"u\" : [\"v\",\"x\"],\n",
        "      \"w\" : [\"z\",\"x\"],\n",
        "      \"x\" : [\"s\",]\n",
        "}\n",
        "#Create an instance of the Graph class and pass the graph_elements\n",
        "g = Graph(graph_elements)\n",
        "#print the vertices by calling the getVertices method with parentheses\n",
        "print(g.getVertices())"
      ],
      "metadata": {
        "colab": {
          "base_uri": "https://localhost:8080/"
        },
        "id": "w9ArjX7vjGt7",
        "outputId": "99141e37-e086-4ea0-8d53-691075e44c23"
      },
      "execution_count": 13,
      "outputs": [
        {
          "output_type": "stream",
          "name": "stdout",
          "text": [
            "['t', 'u', 'w', 'x']\n"
          ]
        }
      ]
    },
    {
      "cell_type": "code",
      "source": [
        "class Graph:\n",
        "    def __init__(self,gdict=None):\n",
        "       if gdict is None:\n",
        "           gdict = {}\n",
        "       self.gdict = gdict\n",
        "\n",
        "#Get the keys of the dictionary\n",
        "    def getVertices(self):\n",
        "        return list(self.gdict.keys())\n",
        "\n",
        "#Create dictionary with graph elemnts\n",
        "graph_elements = {\n",
        "      \"r\" : [\"o\",\"L\"],\n",
        "      \"o\" : [\"m\",\"p\"],\n",
        "      \"m\" : [\"n\"],\n",
        "      \"L\" : [\"p\"],\n",
        "      \"p\" : [\"n\"],\n",
        "}\n",
        "#Create an instance of the Graph class and pass the graph_elements\n",
        "g = Graph(graph_elements)\n",
        "#print the vertices by calling the getVertices method with parentheses\n",
        "print(g.getVertices())"
      ],
      "metadata": {
        "colab": {
          "base_uri": "https://localhost:8080/"
        },
        "id": "u4tBungejaE0",
        "outputId": "2197cd2c-6dd3-4272-fc3e-13c1efed4b54"
      },
      "execution_count": 14,
      "outputs": [
        {
          "output_type": "stream",
          "name": "stdout",
          "text": [
            "['r', 'o', 'm', 'L', 'p']\n"
          ]
        }
      ]
    },
    {
      "cell_type": "code",
      "source": [
        "class graph:\n",
        "   def __init__(self,gdict=None):\n",
        "       if gdict is None:\n",
        "           gdict={}\n",
        "       self.gdict=gdict\n",
        "\n",
        "   def edges(self):\n",
        "       return self.findedges()\n",
        "\n",
        "#find the distinct list of edges\n",
        "   def findedges(self):\n",
        "       edgename=[]\n",
        "       for vrtx in self.gdict:\n",
        "           for nxtvrtx in self.gdict[vrtx]:\n",
        "               if {nxtvrtx, vrtx} not in edgename:\n",
        "                  edgename.append({vrtx, nxtvrtx})\n",
        "       return edgename\n",
        "\n",
        "#create the dictionary with graph elements\n",
        "graph_elements = {\"a\": [\"b\",\"c\"],\n",
        "                \"b\": [\"d\",\"a\"],\n",
        "                \"c\": [\"a\",\"d\"],\n",
        "                \"d\": [\"e\"],\n",
        "                \"e\": [\"d\"]\n",
        "}\n",
        "g = graph(graph_elements)\n",
        "print(g.edges())"
      ],
      "metadata": {
        "colab": {
          "base_uri": "https://localhost:8080/"
        },
        "id": "ILCZpmNnjno2",
        "outputId": "785b713d-034a-4f42-9f66-8b2500240407"
      },
      "execution_count": 15,
      "outputs": [
        {
          "output_type": "stream",
          "name": "stdout",
          "text": [
            "[{'a', 'b'}, {'a', 'c'}, {'d', 'b'}, {'d', 'c'}, {'d', 'e'}]\n"
          ]
        }
      ]
    },
    {
      "cell_type": "code",
      "source": [
        "class graph:\n",
        "   def __init__(self,gdict=None):\n",
        "       if gdict is None:\n",
        "           gdict={}\n",
        "       self.gdict=gdict\n",
        "\n",
        "   def edges(self):\n",
        "       return self.findedges()\n",
        "\n",
        "#find the distinct list of edges\n",
        "   def findedges(self):\n",
        "       edgename=[]\n",
        "       for vrtx in self.gdict:\n",
        "           for nxtvrtx in self.gdict[vrtx]:\n",
        "               if {nxtvrtx, vrtx} not in edgename:\n",
        "                  edgename.append({vrtx, nxtvrtx})\n",
        "       return edgename\n",
        "\n",
        "#create the dictionary with graph elements\n",
        "graph_elements = {\"t\" : [\"u\",\"w\"],\n",
        "                \"u\" : [\"v\",\"x\"],\n",
        "                \"w\" : [\"z\",\"x\"],\n",
        "                \"x\" : [\"s\",]\n",
        "}\n",
        "g = graph(graph_elements)\n",
        "print(g.edges())"
      ],
      "metadata": {
        "colab": {
          "base_uri": "https://localhost:8080/"
        },
        "id": "XS5cDJOPooeF",
        "outputId": "a4b43266-2b12-4d21-fdd2-7daa0c046349"
      },
      "execution_count": 16,
      "outputs": [
        {
          "output_type": "stream",
          "name": "stdout",
          "text": [
            "[{'u', 't'}, {'w', 't'}, {'v', 'u'}, {'x', 'u'}, {'z', 'w'}, {'x', 'w'}, {'x', 's'}]\n"
          ]
        }
      ]
    },
    {
      "cell_type": "code",
      "source": [
        "class graph:\n",
        "   def __init__(self,gdict=None):\n",
        "       if gdict is None:\n",
        "           gdict={}\n",
        "       self.gdict=gdict\n",
        "\n",
        "   def edges(self):\n",
        "       return self.findedges()\n",
        "\n",
        "#find the distinct list of edges\n",
        "   def findedges(self):\n",
        "       edgename=[]\n",
        "       for vrtx in self.gdict:\n",
        "           for nxtvrtx in self.gdict[vrtx]:\n",
        "               if {nxtvrtx, vrtx} not in edgename:\n",
        "                  edgename.append({vrtx, nxtvrtx})\n",
        "       return edgename\n",
        "\n",
        "#create the dictionary with graph elements\n",
        "graph_elements = {\"r\" : [\"o\",\"L\"],\n",
        "                \"o\" : [\"m\",\"p\"],\n",
        "                \"m\" : [\"n\"],\n",
        "                \"L\" : [\"p\"],\n",
        "                \"p\" : [\"n\"]\n",
        "}\n",
        "g = graph(graph_elements)\n",
        "print(g.edges())"
      ],
      "metadata": {
        "colab": {
          "base_uri": "https://localhost:8080/"
        },
        "id": "9pyTktTzozQL",
        "outputId": "37632079-5bf8-4553-a335-6f0e6e75436c"
      },
      "execution_count": 17,
      "outputs": [
        {
          "output_type": "stream",
          "name": "stdout",
          "text": [
            "[{'r', 'o'}, {'r', 'L'}, {'m', 'o'}, {'p', 'o'}, {'m', 'n'}, {'L', 'p'}, {'p', 'n'}]\n"
          ]
        }
      ]
    },
    {
      "cell_type": "code",
      "source": [
        "class graph:\n",
        "    def __init__(self,gdict=None):\n",
        "        if gdict is None:\n",
        "            gdict={}\n",
        "        self.gdict=gdict\n",
        "\n",
        "    def getVertices(self):\n",
        "        return list(self.gdict.keys())\n",
        "\n",
        "#add the vetrex as a key\n",
        "    def addVertex(self,vrtx):\n",
        "       if vrtx not in self.gdict:\n",
        "            self.gdict[vrtx]=[]\n",
        "\n",
        "#create the dictionary with graph elements\n",
        "graph_elements= {\"a\": [\"b\",\"c\"],\n",
        "                \"b\": [\"d\",\"a\"],\n",
        "                \"c\": [\"a\",\"d\"],\n",
        "                \"d\": [\"e\"],\n",
        "                \"e\": [\"d\"]\n",
        "}\n",
        "g=graph(graph_elements)\n",
        "g.addVertex(\"f\")\n",
        "print(g.getVertices())"
      ],
      "metadata": {
        "colab": {
          "base_uri": "https://localhost:8080/"
        },
        "id": "J-bPgg7TpMcb",
        "outputId": "09401417-4169-4dde-cad0-db265931bde4"
      },
      "execution_count": 20,
      "outputs": [
        {
          "output_type": "stream",
          "name": "stdout",
          "text": [
            "['a', 'b', 'c', 'd', 'e', 'f']\n"
          ]
        }
      ]
    },
    {
      "cell_type": "code",
      "source": [
        "class graph:\n",
        "    def __init__(self,gdict=None):\n",
        "        if gdict is None:\n",
        "            gdict={}\n",
        "        self.gdict=gdict\n",
        "\n",
        "    def getVertices(self):\n",
        "        return list(self.gdict.keys())\n",
        "\n",
        "#add the vetrex as a key\n",
        "    def addVertex(self,vrtx):\n",
        "       if vrtx not in self.gdict:\n",
        "            self.gdict[vrtx]=[]\n",
        "\n",
        "#create the dictionary with graph elements\n",
        "graph_elements= {\"t\" : [\"u\",\"w\"],\n",
        "                \"u\" : [\"v\",\"x\"],\n",
        "                \"w\" : [\"z\",\"x\"],\n",
        "                \"x\" : [\"s\",]\n",
        "}\n",
        "g=graph(graph_elements)\n",
        "g.addVertex(\"f\")\n",
        "print(g.getVertices())"
      ],
      "metadata": {
        "colab": {
          "base_uri": "https://localhost:8080/"
        },
        "id": "x198kLlJrvll",
        "outputId": "0b769837-5a1d-4d79-9b21-7006d2bc9162"
      },
      "execution_count": 21,
      "outputs": [
        {
          "output_type": "stream",
          "name": "stdout",
          "text": [
            "['t', 'u', 'w', 'x', 'f']\n"
          ]
        }
      ]
    },
    {
      "cell_type": "code",
      "source": [
        "class graph:\n",
        "    def __init__(self,gdict=None):\n",
        "        if gdict is None:\n",
        "            gdict={}\n",
        "        self.gdict=gdict\n",
        "\n",
        "    def getVertices(self):\n",
        "        return list(self.gdict.keys())\n",
        "\n",
        "#add the vetrex as a key\n",
        "    def addVertex(self,vrtx):\n",
        "       if vrtx not in self.gdict:\n",
        "            self.gdict[vrtx]=[]\n",
        "\n",
        "#create the dictionary with graph elements\n",
        "graph_elements= {\"r\" : [\"o\",\"L\"],\n",
        "                \"o\" : [\"m\",\"p\"],\n",
        "                \"m\" : [\"n\"],\n",
        "                \"L\" : [\"p\"],\n",
        "                \"p\" : [\"n\"],\n",
        "                \"x\" : [\"s\",]\n",
        "}\n",
        "g=graph(graph_elements)\n",
        "g.addVertex(\"f\")\n",
        "print(g.getVertices())"
      ],
      "metadata": {
        "colab": {
          "base_uri": "https://localhost:8080/"
        },
        "id": "Q-jFflM6r7L2",
        "outputId": "a43ec2b7-673e-4ce8-c85b-1b89244c4204"
      },
      "execution_count": 22,
      "outputs": [
        {
          "output_type": "stream",
          "name": "stdout",
          "text": [
            "['r', 'o', 'm', 'L', 'p', 'x', 'f']\n"
          ]
        }
      ]
    },
    {
      "cell_type": "code",
      "source": [
        "class graph:\n",
        "\n",
        "  def __init__(self,gdict=None):\n",
        "      if gdict is None:\n",
        "          gdict={}\n",
        "      self.gdict=gdict\n",
        "\n",
        "  def edges(self):\n",
        "      return self.findedges()\n",
        "\n",
        "#add the new edge\n",
        "  def AddEdge(self, edge):\n",
        "      edge=set(edge)\n",
        "      (vrtx1,vrtx2)=tuple(edge)\n",
        "      if vrtx1 in self.gdict:\n",
        "          self.gdict[vrtx1].append(vrtx2)\n",
        "      else:\n",
        "          self.gdict[vrtx1]=(vrtx2)\n",
        "\n",
        "#list the edge names\n",
        "  def findedges(self):\n",
        "    edgename=[]\n",
        "    for vrtx in self.gdict:\n",
        "        for nxtvrtx in self.gdict[vrtx]:\n",
        "            if{nxtvrtx, vrtx}not in edgename:\n",
        "               edgename.append({vrtx, nxtvrtx})\n",
        "    return edgename\n",
        "graph_elements={\"a\": [\"b\",\"c\"],\n",
        "                \"b\": [\"d\",\"a\"],\n",
        "                \"c\": [\"a\",\"d\"],\n",
        "                \"d\": [\"e\"],\n",
        "                \"e\": [\"d\"]\n",
        "}\n",
        "\n",
        "g= graph(graph_elements)\n",
        "g.AddEdge({'a','e'})\n",
        "g.AddEdge({'a','c'})\n",
        "print(g.edges())"
      ],
      "metadata": {
        "colab": {
          "base_uri": "https://localhost:8080/"
        },
        "id": "kU9OCPLYsIIY",
        "outputId": "dad268de-fb69-4878-f8d5-ec63ba2d33a0"
      },
      "execution_count": 24,
      "outputs": [
        {
          "output_type": "stream",
          "name": "stdout",
          "text": [
            "[{'a', 'b'}, {'a', 'c'}, {'a', 'e'}, {'d', 'b'}, {'d', 'c'}, {'d', 'e'}]\n"
          ]
        }
      ]
    },
    {
      "cell_type": "code",
      "source": [
        "class graph:\n",
        "\n",
        "  def __init__(self,gdict=None):\n",
        "      if gdict is None:\n",
        "          gdict={}\n",
        "      self.gdict=gdict\n",
        "\n",
        "  def edges(self):\n",
        "      return self.findedges()\n",
        "\n",
        "#add the new edge\n",
        "  def AddEdge(self, edge):\n",
        "      edge=set(edge)\n",
        "      (vrtx1,vrtx2)=tuple(edge)\n",
        "      if vrtx1 in self.gdict:\n",
        "          self.gdict[vrtx1].append(vrtx2)\n",
        "      else:\n",
        "          self.gdict[vrtx1]=(vrtx2)\n",
        "\n",
        "#list the edge names\n",
        "  def findedges(self):\n",
        "    edgename=[]\n",
        "    for vrtx in self.gdict:\n",
        "        for nxtvrtx in self.gdict[vrtx]:\n",
        "            if{nxtvrtx, vrtx}not in edgename:\n",
        "               edgename.append({vrtx, nxtvrtx})\n",
        "    return edgename\n",
        "graph_elements={\"t\" : [\"u\",\"w\"],\n",
        "                \"u\" : [\"v\",\"x\"],\n",
        "                \"w\" : [\"z\",\"x\"],\n",
        "                \"x\" : [\"s\",]\n",
        "}\n",
        "\n",
        "g= graph(graph_elements)\n",
        "g.AddEdge({'a','x'})\n",
        "g.AddEdge({'a','w'})\n",
        "print(g.edges())"
      ],
      "metadata": {
        "colab": {
          "base_uri": "https://localhost:8080/"
        },
        "id": "dZ_qR5zuwPrw",
        "outputId": "c51d6e59-701a-449a-bb89-01f548862c5d"
      },
      "execution_count": 28,
      "outputs": [
        {
          "output_type": "stream",
          "name": "stdout",
          "text": [
            "[{'u', 't'}, {'w', 't'}, {'v', 'u'}, {'x', 'u'}, {'z', 'w'}, {'x', 'w'}, {'x', 's'}, {'x', 'a'}, {'a', 'w'}]\n"
          ]
        }
      ]
    },
    {
      "cell_type": "code",
      "source": [
        "class graph:\n",
        "\n",
        "  def __init__(self,gdict=None):\n",
        "      if gdict is None:\n",
        "          gdict={}\n",
        "      self.gdict=gdict\n",
        "\n",
        "  def edges(self):\n",
        "      return self.findedges()\n",
        "\n",
        "#add the new edge\n",
        "  def AddEdge(self, edge):\n",
        "      edge=set(edge)\n",
        "      (vrtx1,vrtx2)=tuple(edge)\n",
        "      if vrtx1 in self.gdict:\n",
        "          self.gdict[vrtx1].append(vrtx2)\n",
        "      else:\n",
        "          self.gdict[vrtx1]=(vrtx2)\n",
        "\n",
        "#list the edge names\n",
        "  def findedges(self):\n",
        "    edgename=[]\n",
        "    for vrtx in self.gdict:\n",
        "        for nxtvrtx in self.gdict[vrtx]:\n",
        "            if{nxtvrtx, vrtx}not in edgename:\n",
        "               edgename.append({vrtx, nxtvrtx})\n",
        "    return edgename\n",
        "graph_elements={\"r\" : [\"o\",\"L\"],\n",
        "                \"o\" : [\"m\",\"p\"],\n",
        "                \"m\" : [\"n\"],\n",
        "                \"L\" : [\"p\"],\n",
        "                \"p\" : [\"n\"],\n",
        "                \"x\" : [\"s\",]\n",
        "}\n",
        "\n",
        "g= graph(graph_elements)\n",
        "g.AddEdge({'a','x'})\n",
        "g.AddEdge({'a','w'})\n",
        "print(g.edges())"
      ],
      "metadata": {
        "colab": {
          "base_uri": "https://localhost:8080/"
        },
        "id": "73uco_k0zG_j",
        "outputId": "78bb66b5-5f17-40ce-c161-b5012bfe84eb"
      },
      "execution_count": 1,
      "outputs": [
        {
          "output_type": "stream",
          "name": "stdout",
          "text": [
            "[{'o', 'r'}, {'L', 'r'}, {'m', 'o'}, {'o', 'p'}, {'m', 'n'}, {'p', 'L'}, {'p', 'n'}, {'x', 's'}, {'x', 'a'}, {'a', 'w'}]\n"
          ]
        }
      ]
    }
  ]
}